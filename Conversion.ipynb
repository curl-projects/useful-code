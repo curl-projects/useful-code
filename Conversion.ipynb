{
 "cells": [
  {
   "cell_type": "code",
   "execution_count": 225,
   "metadata": {},
   "outputs": [],
   "source": [
    "import numpy as np\n",
    "import pandas as pd\n",
    "import json\n",
    "import os\n",
    "import pinecone\n",
    "import itertools\n",
    "import redis\n",
    "from tqdm import tqdm\n",
    "from ast import literal_eval\n",
    "import glob"
   ]
  },
  {
   "cell_type": "code",
   "execution_count": 252,
   "metadata": {},
   "outputs": [
    {
     "name": "stdout",
     "output_type": "stream",
     "text": [
      "Processing File 0\n",
      "Embedding Upload for File 0:\n"
     ]
    },
    {
     "name": "stderr",
     "output_type": "stream",
     "text": [
      "10it [00:00, 419.71it/s]\n"
     ]
    },
    {
     "name": "stdout",
     "output_type": "stream",
     "text": [
      "Metadata Upload for File 0:\n"
     ]
    },
    {
     "name": "stderr",
     "output_type": "stream",
     "text": [
      "4it [00:01,  2.71it/s]\n"
     ]
    },
    {
     "name": "stdout",
     "output_type": "stream",
     "text": [
      "Processing File 1\n",
      "Embedding Upload for File 1:\n"
     ]
    },
    {
     "name": "stderr",
     "output_type": "stream",
     "text": [
      "10it [00:00, 339.30it/s]\n"
     ]
    },
    {
     "name": "stdout",
     "output_type": "stream",
     "text": [
      "Metadata Upload for File 1:\n"
     ]
    },
    {
     "name": "stderr",
     "output_type": "stream",
     "text": [
      "4it [00:01,  2.53it/s]\n"
     ]
    }
   ],
   "source": [
    "def execute_for_all_files():\n",
    "    desktop = os.path.join(os.path.join(os.path.expanduser('~')), 'Desktop') \n",
    "    file_paths = glob.glob(f'{desktop}/ap-data/*')\n",
    "\n",
    "    for index, file in enumerate(file_paths):\n",
    "        print(f\"Processing File {index+1}\")\n",
    "        dataframe = pd.read_csv(file)\n",
    "        print(f\"Embedding Upload for File {index+1}:\")\n",
    "        schematize_and_upload_embeddings(dataframe)\n",
    "        \n",
    "        print(f\"Metadata Upload for File {index+1}:\")\n",
    "        schematize_and_upload_metadata(dataframe)\n",
    "\n",
    "execute_for_all_files()"
   ]
  },
  {
   "cell_type": "markdown",
   "metadata": {},
   "source": [
    "# Supporting Code"
   ]
  },
  {
   "cell_type": "code",
   "execution_count": 239,
   "metadata": {},
   "outputs": [],
   "source": [
    "def preprocess_embeddings(dataframe):\n",
    "    embeddings = dataframe.loc[:, ['doi', 'embedding']]\n",
    "    embeddings.columns = ['id', 'values']\n",
    "    embeddings['values'] = embeddings['values'].apply(literal_eval)\n",
    "    return embeddings"
   ]
  },
  {
   "cell_type": "code",
   "execution_count": 240,
   "metadata": {},
   "outputs": [],
   "source": [
    "def batches(iterable, batch_size=100):\n",
    "  \"\"\"Helper function to break an iterable into chunks of size batch_size.\"\"\"\n",
    "  it = iter(iterable)\n",
    "  chunk = list(itertools.islice(it, batch_size))\n",
    "  while chunk:\n",
    "      yield chunk\n",
    "      chunk = list(itertools.islice(it, batch_size))\n",
    "\n",
    "def batch_upload(vector_list, pinecone_index, batch_size):\n",
    "  for vector_batch in batches(vector_list, batch_size=batch_size):\n",
    "    pinecone_index.upsert(vectors=vector_batch)"
   ]
  },
  {
   "cell_type": "code",
   "execution_count": 241,
   "metadata": {},
   "outputs": [],
   "source": [
    "def async_batch_upload(vector_list, batch_size):\n",
    "    with pinecone.Index(\"embedding-db\", pool_threads=30) as index:\n",
    "        async_results = [\n",
    "            index.upsert(vectors=id_vectors_chunk, async_req=True)\n",
    "            for id_vectors_chunk in tqdm(batches(vector_list, batch_size=batch_size))\n",
    "        ]\n",
    "\n",
    "        return [async_result.get() for async_result in async_results]\n"
   ]
  },
  {
   "cell_type": "markdown",
   "metadata": {},
   "source": [
    "# Executable"
   ]
  },
  {
   "cell_type": "code",
   "execution_count": 242,
   "metadata": {},
   "outputs": [],
   "source": [
    "def schematize_and_upload_embeddings(unprocessed_data):\n",
    "    pinecone.init(api_key=\"7b1da713-81bd-4c6e-9e9f-c6bace0fae47\", environment=\"us-west1-gcp\")\n",
    "    index = pinecone.Index(\"embedding-db\")\n",
    "\n",
    "    data = preprocess_embeddings(unprocessed_data)\n",
    "    data_itertuples = list(data.itertuples(index=False, name=None))\n",
    "    return async_batch_upload(data_itertuples, 100)            "
   ]
  },
  {
   "cell_type": "markdown",
   "metadata": {},
   "source": [
    "# Other Embedding Code"
   ]
  },
  {
   "cell_type": "code",
   "execution_count": 243,
   "metadata": {},
   "outputs": [],
   "source": [
    "def schematize_and_write_embeddings(unprocessed_data, vectors_per_file):\n",
    "    data = preprocess_embeddings(unprocessed_data)\n",
    "\n",
    "    desktop = os.path.join(os.path.join(os.path.expanduser('~')), 'Desktop') \n",
    "\n",
    "    for i in range(0, len(data), vectors_per_file):\n",
    "        df = data.loc[i:i+vectors_per_file]\n",
    "        # converts from pandas dataframe directly to json\n",
    "        json_data = json.loads(df.to_json(orient='records'))\n",
    "        with open(f\"{desktop}/embeddings-folder/file-{i}.csv\", \"w\") as f:\n",
    "                json.dump(json_data, f)"
   ]
  },
  {
   "cell_type": "code",
   "execution_count": null,
   "metadata": {},
   "outputs": [],
   "source": []
  },
  {
   "cell_type": "markdown",
   "metadata": {},
   "source": [
    "# Metadata Stuff"
   ]
  },
  {
   "cell_type": "code",
   "execution_count": 244,
   "metadata": {},
   "outputs": [],
   "source": [
    "def dict_chunks(data, size):\n",
    "    it = iter(data)\n",
    "    for i in range(0, len(data), size):\n",
    "        yield {k:data[k] for k in itertools.islice(it, size)}"
   ]
  },
  {
   "cell_type": "code",
   "execution_count": 245,
   "metadata": {},
   "outputs": [],
   "source": [
    "def process_metadata(dataframe):\n",
    "    doi_list = dataframe['doi'].tolist()\n",
    "    metadata = dataframe.drop(['embedding', 'doi'], axis=1)\n",
    "    json_metadata = json.loads(metadata.to_json(orient='records'))\n",
    "    json_list = [ json.dumps(i) for i in json_metadata]\n",
    "    return ( doi_list, json_list )\n",
    "\n",
    "def schematize_and_upload_metadata(dataframe, batch_size=300):\n",
    "    doi_list, json_list = process_metadata(dataframe)\n",
    "\n",
    "    r = redis.Redis(\n",
    "    host= 'global-sterling-marlin-30591.upstash.io',\n",
    "    port= '30591',\n",
    "    password= '86c6e52311d54de0af1bfd7c21d52056', ssl=True)\n",
    "\n",
    "    for chunk in tqdm(dict_chunks(dict(zip(doi_list, json_list)), batch_size)):\n",
    "        r.mset(chunk)"
   ]
  },
  {
   "cell_type": "markdown",
   "metadata": {},
   "source": [
    "# Deleting all Data"
   ]
  },
  {
   "cell_type": "code",
   "execution_count": 246,
   "metadata": {},
   "outputs": [],
   "source": [
    "# pinecone.init(api_key=\"7b1da713-81bd-4c6e-9e9f-c6bace0fae47\", environment=\"us-west1-gcp\")\n",
    "# index = pinecone.Index(\"embedding-db\")\n",
    "# index.delete(delete_all=True)"
   ]
  },
  {
   "cell_type": "code",
   "execution_count": 247,
   "metadata": {},
   "outputs": [],
   "source": [
    "# r = redis.Redis(\n",
    "#     host= 'global-sterling-marlin-30591.upstash.io',\n",
    "#     port= '30591',\n",
    "#     password= '86c6e52311d54de0af1bfd7c21d52056', ssl=True)\n",
    "# r.flushdb()"
   ]
  }
 ],
 "metadata": {
  "kernelspec": {
   "display_name": "Python 3.9.13 64-bit",
   "language": "python",
   "name": "python3"
  },
  "language_info": {
   "codemirror_mode": {
    "name": "ipython",
    "version": 3
   },
   "file_extension": ".py",
   "mimetype": "text/x-python",
   "name": "python",
   "nbconvert_exporter": "python",
   "pygments_lexer": "ipython3",
   "version": "3.9.13"
  },
  "orig_nbformat": 4,
  "vscode": {
   "interpreter": {
    "hash": "b0fa6594d8f4cbf19f97940f81e996739fb7646882a419484c72d19e05852a7e"
   }
  }
 },
 "nbformat": 4,
 "nbformat_minor": 2
}
